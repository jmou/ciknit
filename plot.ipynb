{
 "cells": [
  {
   "cell_type": "code",
   "execution_count": null,
   "metadata": {},
   "outputs": [],
   "source": [
    "knit_active = False"
   ]
  },
  {
   "cell_type": "code",
   "execution_count": null,
   "metadata": {},
   "outputs": [],
   "source": [
    "import pandas as pd\n",
    "\n",
    "if knit_active:\n",
    "    import knitpyter\n",
    "    countries_df = knitpyter.read_csv('@ref(countries)')\n",
    "    frequency_df = knitpyter.read_bigquery('@ref(frequency)')\n",
    "else:\n",
    "    countries_df = pd.read_csv('~/Downloads/origins.csv')\n",
    "    frequency_df = pd.read_csv('~/Downloads/bquxjob_2d9c5c37_180e4a55ce3.csv')"
   ]
  },
  {
   "cell_type": "code",
   "execution_count": null,
   "metadata": {},
   "outputs": [],
   "source": [
    "df = frequency_df.merge(countries_df, how='left', on='name')\n",
    "df"
   ]
  },
  {
   "cell_type": "code",
   "execution_count": null,
   "metadata": {},
   "outputs": [],
   "source": [
    "df = df.fillna({'origin': 'Unknown'})\n",
    "df = df.groupby(['year', 'origin']).sum().reset_index()\n",
    "df = df.pivot(index='year', columns='origin', values='number')\n",
    "df = df[df.sum().sort_values(ascending=False).index]\n",
    "df = df.div(df.sum(axis=1), axis=0)"
   ]
  },
  {
   "cell_type": "code",
   "execution_count": null,
   "metadata": {},
   "outputs": [],
   "source": [
    "ax = df.plot.area(figsize=(15, 7))\n",
    "ax.set_title('Popular girl names by country of origin')"
   ]
  }
 ],
 "metadata": {
  "interpreter": {
   "hash": "f9af959f60f22f95bfaf04c4f1622bb0dd8931aaec877e0fda5c80ea5418900e"
  },
  "kernelspec": {
   "display_name": "Python 3.10.4 ('.venv': venv)",
   "language": "python",
   "name": "python3"
  },
  "language_info": {
   "codemirror_mode": {
    "name": "ipython",
    "version": 3
   },
   "file_extension": ".py",
   "mimetype": "text/x-python",
   "name": "python",
   "nbconvert_exporter": "python",
   "pygments_lexer": "ipython3",
   "version": "3.10.4"
  },
  "orig_nbformat": 4
 },
 "nbformat": 4,
 "nbformat_minor": 2
}
